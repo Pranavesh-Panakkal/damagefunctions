{
  "nbformat": 4,
  "nbformat_minor": 0,
  "metadata": {
    "colab": {
      "name": "Examples DamageFunctions.ipynb",
      "provenance": [],
      "include_colab_link": true
    },
    "kernelspec": {
      "name": "python3",
      "display_name": "Python 3"
    }
  },
  "cells": [
    {
      "cell_type": "markdown",
      "metadata": {
        "id": "view-in-github",
        "colab_type": "text"
      },
      "source": [
        "<a href=\"https://colab.research.google.com/github/Pranavesh-Panakkal/damagefunctions/blob/master/Examples/Examples_DamageFunctions.ipynb\" target=\"_parent\"><img src=\"https://colab.research.google.com/assets/colab-badge.svg\" alt=\"Open In Colab\"/></a>"
      ]
    },
    {
      "cell_type": "markdown",
      "metadata": {
        "id": "StQnQBJDfbSd"
      },
      "source": [
        "## Install damagefunctions package from PyPI"
      ]
    },
    {
      "cell_type": "code",
      "metadata": {
        "id": "Z73oGaC9Wwpb",
        "outputId": "3f4f8aa6-780f-493b-afba-7df0787abcf4",
        "colab": {
          "base_uri": "https://localhost:8080/",
          "height": 88
        }
      },
      "source": [
        "!pip install damagefunctions"
      ],
      "execution_count": null,
      "outputs": [
        {
          "output_type": "stream",
          "text": [
            "Collecting damagefunctions\n",
            "  Downloading https://files.pythonhosted.org/packages/72/f2/51ec3e40398b38a77f1767d07bb903eb6d76ac7b98c646f0ce8ba0031fb9/damagefunctions-0.0.1-py3-none-any.whl\n",
            "Installing collected packages: damagefunctions\n",
            "Successfully installed damagefunctions-0.0.1\n"
          ],
          "name": "stdout"
        }
      ]
    },
    {
      "cell_type": "markdown",
      "metadata": {
        "id": "So2GQjJyfjLe"
      },
      "source": [
        "## Import damagefunction package"
      ]
    },
    {
      "cell_type": "code",
      "metadata": {
        "id": "utaL7riTW37D"
      },
      "source": [
        "from damagefunctions import damagefunctions as rdf"
      ],
      "execution_count": null,
      "outputs": []
    },
    {
      "cell_type": "markdown",
      "metadata": {
        "id": "7JgpuLSZfoYv"
      },
      "source": [
        "## Estimate damage ratio using Pistrika and Jonkman (2010)"
      ]
    },
    {
      "cell_type": "code",
      "metadata": {
        "id": "Z52qiKY2W-ug",
        "outputId": "aabbb509-8a45-4fd2-e2de-4bb51e55027d",
        "colab": {
          "base_uri": "https://localhost:8080/",
          "height": 35
        }
      },
      "source": [
        "damage_ratio = damagefunctions.pistrika_US_2010_block(water_depth_m=1, velocity_ms=1)\n",
        "damage_ratio"
      ],
      "execution_count": null,
      "outputs": [
        {
          "output_type": "execute_result",
          "data": {
            "text/plain": [
              "0.52"
            ]
          },
          "metadata": {
            "tags": []
          },
          "execution_count": 3
        }
      ]
    },
    {
      "cell_type": "code",
      "metadata": {
        "id": "jS7bgea_XFnH"
      },
      "source": [
        ""
      ],
      "execution_count": null,
      "outputs": []
    }
  ]
}