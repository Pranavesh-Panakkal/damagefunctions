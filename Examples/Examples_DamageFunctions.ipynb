{
  "nbformat": 4,
  "nbformat_minor": 0,
  "metadata": {
    "colab": {
      "name": "Examples DamageFunctions.ipynb",
      "provenance": []
    },
    "kernelspec": {
      "name": "python3",
      "display_name": "Python 3"
    }
  },
  "cells": [
    {
      "cell_type": "code",
      "metadata": {
        "id": "Z73oGaC9Wwpb",
        "outputId": "fc8f71f4-cacd-4476-8423-36ebc4f03710",
        "colab": {
          "base_uri": "https://localhost:8080/",
          "height": 88
        }
      },
      "source": [
        "!pip install damagefunctions"
      ],
      "execution_count": 1,
      "outputs": [
        {
          "output_type": "stream",
          "text": [
            "Collecting damagefunctions\n",
            "  Downloading https://files.pythonhosted.org/packages/72/f2/51ec3e40398b38a77f1767d07bb903eb6d76ac7b98c646f0ce8ba0031fb9/damagefunctions-0.0.1-py3-none-any.whl\n",
            "Installing collected packages: damagefunctions\n",
            "Successfully installed damagefunctions-0.0.1\n"
          ],
          "name": "stdout"
        }
      ]
    },
    {
      "cell_type": "code",
      "metadata": {
        "id": "utaL7riTW37D"
      },
      "source": [
        "from damagefunctions import damagefunctions"
      ],
      "execution_count": 2,
      "outputs": []
    },
    {
      "cell_type": "code",
      "metadata": {
        "id": "Z52qiKY2W-ug",
        "outputId": "c6d14532-10ac-4928-fd02-8dbf87338307",
        "colab": {
          "base_uri": "https://localhost:8080/",
          "height": 35
        }
      },
      "source": [
        "damage_ratio = damagefunctions.pistrika_US_2010_block(water_depth_m=1, velocity_ms=1)\n",
        "damage_ratio"
      ],
      "execution_count": 4,
      "outputs": [
        {
          "output_type": "execute_result",
          "data": {
            "text/plain": [
              "0.52"
            ]
          },
          "metadata": {
            "tags": []
          },
          "execution_count": 4
        }
      ]
    },
    {
      "cell_type": "code",
      "metadata": {
        "id": "jS7bgea_XFnH"
      },
      "source": [
        ""
      ],
      "execution_count": null,
      "outputs": []
    }
  ]
}