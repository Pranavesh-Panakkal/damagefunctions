{
  "nbformat": 4,
  "nbformat_minor": 0,
  "metadata": {
    "colab": {
      "name": "Examples DamageFunctions.ipynb",
      "provenance": [],
      "include_colab_link": true
    },
    "kernelspec": {
      "name": "python3",
      "display_name": "Python 3"
    }
  },
  "cells": [
    {
      "cell_type": "markdown",
      "metadata": {
        "id": "view-in-github",
        "colab_type": "text"
      },
      "source": [
        "<a href=\"https://colab.research.google.com/github/Pranavesh-Panakkal/damagefunctions/blob/master/Examples/Examples_DamageFunctions.ipynb\" target=\"_parent\"><img src=\"https://colab.research.google.com/assets/colab-badge.svg\" alt=\"Open In Colab\"/></a>"
      ]
    },
    {
      "cell_type": "markdown",
      "metadata": {
        "id": "StQnQBJDfbSd"
      },
      "source": [
        "## Install damagefunctions package from PyPI"
      ]
    },
    {
      "cell_type": "code",
      "metadata": {
        "id": "Z73oGaC9Wwpb"
      },
      "source": [
        "%%capture\n",
        "!pip install damagefunctions"
      ],
      "execution_count": 5,
      "outputs": []
    },
    {
      "cell_type": "markdown",
      "metadata": {
        "id": "So2GQjJyfjLe"
      },
      "source": [
        "## Import damagefunctions package"
      ]
    },
    {
      "cell_type": "code",
      "metadata": {
        "id": "utaL7riTW37D"
      },
      "source": [
        "from damagefunctions import damagefunctions as rdf"
      ],
      "execution_count": 6,
      "outputs": []
    },
    {
      "cell_type": "markdown",
      "metadata": {
        "id": "7JgpuLSZfoYv"
      },
      "source": [
        "## Estimate damage ratio using Pistrika and Jonkman (2010)"
      ]
    },
    {
      "cell_type": "code",
      "metadata": {
        "id": "Z52qiKY2W-ug",
        "outputId": "aebadfd7-37d7-4ab6-80d9-bcbcdc767c26",
        "colab": {
          "base_uri": "https://localhost:8080/",
          "height": 34
        }
      },
      "source": [
        "damage_ratio = rdf.pistrika_US_2010_block(water_depth_m=1, velocity_ms=1)\n",
        "damage_ratio"
      ],
      "execution_count": 7,
      "outputs": [
        {
          "output_type": "execute_result",
          "data": {
            "text/plain": [
              "0.52"
            ]
          },
          "metadata": {
            "tags": []
          },
          "execution_count": 7
        }
      ]
    },
    {
      "cell_type": "code",
      "metadata": {
        "id": "jS7bgea_XFnH"
      },
      "source": [
        ""
      ],
      "execution_count": null,
      "outputs": []
    }
  ]
}